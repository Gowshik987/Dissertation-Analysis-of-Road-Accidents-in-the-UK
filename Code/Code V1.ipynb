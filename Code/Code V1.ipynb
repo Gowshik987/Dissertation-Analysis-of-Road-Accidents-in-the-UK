{
 "cells": [
  {
   "cell_type": "code",
   "execution_count": 1,
   "id": "a8cca7e6-7500-4888-bc65-a3509996e8be",
   "metadata": {},
   "outputs": [
    {
     "name": "stderr",
     "output_type": "stream",
     "text": [
      "C:\\Users\\ATAUMAR\\AppData\\Local\\Temp\\ipykernel_2504\\1912417982.py:9: DtypeWarning: Columns (0,2) have mixed types. Specify dtype option on import or set low_memory=False.\n",
      "  df_casualty = pd.read_csv(file1)\n",
      "C:\\Users\\ATAUMAR\\AppData\\Local\\Temp\\ipykernel_2504\\1912417982.py:10: DtypeWarning: Columns (0,2) have mixed types. Specify dtype option on import or set low_memory=False.\n",
      "  df_collision = pd.read_csv(file2)\n",
      "C:\\Users\\ATAUMAR\\AppData\\Local\\Temp\\ipykernel_2504\\1912417982.py:11: DtypeWarning: Columns (0,2) have mixed types. Specify dtype option on import or set low_memory=False.\n",
      "  df_vehicle = pd.read_csv(file3)\n"
     ]
    }
   ],
   "source": [
    "import pandas as pd\n",
    "\n",
    "# Data files path\n",
    "file1 = \"../data/dft-road-casualty-statistics-casualty-2022.csv\"\n",
    "file2 = \"../data/dft-road-casualty-statistics-collision-2022.csv\"\n",
    "file3 = \"../data/dft-road-casualty-statistics-vehicle-2022.csv\"\n",
    "\n",
    "# Reading CSV files into DataFrames\n",
    "df_casualty = pd.read_csv(file1)\n",
    "df_collision = pd.read_csv(file2)\n",
    "df_vehicle = pd.read_csv(file3)"
   ]
  },
  {
   "cell_type": "code",
   "execution_count": 2,
   "id": "f41f8ab1-ee23-473f-8443-2e345da9b12d",
   "metadata": {},
   "outputs": [
    {
     "name": "stdout",
     "output_type": "stream",
     "text": [
      "Column names of 'dft-road-casualty-statistics-casualty-2022.csv':\n",
      "Index(['accident_index', 'accident_year', 'accident_reference',\n",
      "       'vehicle_reference', 'casualty_reference', 'casualty_class',\n",
      "       'sex_of_casualty', 'age_of_casualty', 'age_band_of_casualty',\n",
      "       'casualty_severity', 'pedestrian_location', 'pedestrian_movement',\n",
      "       'car_passenger', 'bus_or_coach_passenger',\n",
      "       'pedestrian_road_maintenance_worker', 'casualty_type',\n",
      "       'casualty_home_area_type', 'casualty_imd_decile', 'lsoa_of_casualty'],\n",
      "      dtype='object')\n",
      "\n",
      "Column names of 'dft-road-casualty-statistics-collision-2022.csv':\n",
      "Index(['accident_index', 'accident_year', 'accident_reference',\n",
      "       'location_easting_osgr', 'location_northing_osgr', 'longitude',\n",
      "       'latitude', 'police_force', 'accident_severity', 'number_of_vehicles',\n",
      "       'number_of_casualties', 'date', 'day_of_week', 'time',\n",
      "       'local_authority_district', 'local_authority_ons_district',\n",
      "       'local_authority_highway', 'first_road_class', 'first_road_number',\n",
      "       'road_type', 'speed_limit', 'junction_detail', 'junction_control',\n",
      "       'second_road_class', 'second_road_number',\n",
      "       'pedestrian_crossing_human_control',\n",
      "       'pedestrian_crossing_physical_facilities', 'light_conditions',\n",
      "       'weather_conditions', 'road_surface_conditions',\n",
      "       'special_conditions_at_site', 'carriageway_hazards',\n",
      "       'urban_or_rural_area', 'did_police_officer_attend_scene_of_accident',\n",
      "       'trunk_road_flag', 'lsoa_of_accident_location'],\n",
      "      dtype='object')\n",
      "\n",
      "Column names of 'dft-road-casualty-statistics-vehicle-2022.csv':\n",
      "Index(['accident_index', 'accident_year', 'accident_reference',\n",
      "       'vehicle_reference', 'vehicle_type', 'towing_and_articulation',\n",
      "       'vehicle_manoeuvre', 'vehicle_direction_from', 'vehicle_direction_to',\n",
      "       'vehicle_location_restricted_lane', 'junction_location',\n",
      "       'skidding_and_overturning', 'hit_object_in_carriageway',\n",
      "       'vehicle_leaving_carriageway', 'hit_object_off_carriageway',\n",
      "       'first_point_of_impact', 'vehicle_left_hand_drive',\n",
      "       'journey_purpose_of_driver', 'sex_of_driver', 'age_of_driver',\n",
      "       'age_band_of_driver', 'engine_capacity_cc', 'propulsion_code',\n",
      "       'age_of_vehicle', 'generic_make_model', 'driver_imd_decile',\n",
      "       'driver_home_area_type', 'lsoa_of_driver'],\n",
      "      dtype='object')\n"
     ]
    }
   ],
   "source": [
    "# Printing column names of each DataFrame\n",
    "print(\"Column names of 'dft-road-casualty-statistics-casualty-2022.csv':\")\n",
    "print(df_casualty.columns)\n",
    "print(\"\\nColumn names of 'dft-road-casualty-statistics-collision-2022.csv':\")\n",
    "print(df_collision.columns)\n",
    "print(\"\\nColumn names of 'dft-road-casualty-statistics-vehicle-2022.csv':\")\n",
    "print(df_vehicle.columns)"
   ]
  },
  {
   "cell_type": "code",
   "execution_count": null,
   "id": "72a0c97c-fba8-4b2e-9403-090bf6626a3d",
   "metadata": {},
   "outputs": [],
   "source": [
    "# Merging datasets on 'accident_index'\n",
    "df_merged = pd.merge(df_casualty, df_collision, on='accident_index')\n",
    "df_merged = pd.merge(df_merged, df_vehicle, on='accident_index')\n",
    "\n",
    "print(\"Merged DataFrame:\")\n",
    "df_merged.head()"
   ]
  },
  {
   "cell_type": "code",
   "execution_count": null,
   "id": "6ae9a92a-0605-40ad-bbe0-bacd62606d83",
   "metadata": {},
   "outputs": [],
   "source": []
  }
 ],
 "metadata": {
  "kernelspec": {
   "display_name": "Python 3 (ipykernel)",
   "language": "python",
   "name": "python3"
  },
  "language_info": {
   "codemirror_mode": {
    "name": "ipython",
    "version": 3
   },
   "file_extension": ".py",
   "mimetype": "text/x-python",
   "name": "python",
   "nbconvert_exporter": "python",
   "pygments_lexer": "ipython3",
   "version": "3.12.4"
  }
 },
 "nbformat": 4,
 "nbformat_minor": 5
}
